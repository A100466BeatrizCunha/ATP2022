{
 "cells": [
  {
   "cell_type": "markdown",
   "id": "1e545158",
   "metadata": {},
   "source": [
    "# Aula Prática 5 (guião)\n",
    "### Semana de 17 a 21 de Outubro de 2022\n",
    "### José Carlos Ramalho e Luís Cunha\n",
    "### Sinopsis:\n",
    "Algoritmos e modelação de problemas com armazenamento em memória secundária."
   ]
  },
  {
   "cell_type": "markdown",
   "id": "1d9c2fbc",
   "metadata": {},
   "source": [
    "### Exercício 1: Polinómios\n",
    "\n",
    "Neste exercício, desenvolva as seguintes alíneas:"
   ]
  },
  {
   "cell_type": "markdown",
   "id": "8ef1ac42",
   "metadata": {},
   "source": [
    "#### a) Pense num modelo para polinómios e instancia os seguintes exemplos:\n",
    "\n",
    "* `x`\n",
    "* `2x + 1`\n",
    "* `7x^5 + 6x^3 - 2x^2 + 27`"
   ]
  },
  {
   "cell_type": "code",
   "execution_count": null,
   "id": "854085f7",
   "metadata": {},
   "outputs": [],
   "source": [
    "# Solução de 1.a)\n",
    "# Polinomio = [termo] - lista\n",
    "# termo = (coeficiente, grau) - tuplo\n",
    "# polinomio1 = x\n",
    "polinomio1 = [(1,1)]\n",
    "\n",
    "#polinomio2 = 2x + 1\n",
    "polinomio2 = [(2,1), (1,0)]\n",
    "\n",
    "#polinomio3 = 7x^5 + 6x^3 - 2x^2 + 27\n",
    "polinomio3 = [(7,5), (6,3), (-2,2), (27,0)]\n"
   ]
  },
  {
   "cell_type": "markdown",
   "id": "fdc3ff66",
   "metadata": {},
   "source": [
    "#### b) Defina uma função, ou funções, que pede ao utilizador a informação necessária para criar um polinómio, cria esse polinómio e devolve-o como resultado"
   ]
  },
  {
   "cell_type": "code",
   "execution_count": null,
   "id": "fb44546a",
   "metadata": {},
   "outputs": [],
   "source": [
    "# Solução de 1.b)\n",
    "def criaPolIn():\n",
    "    resPol = []\n",
    "    grau = int(input(\"Qual o grau do polinomio a ser introduzido: \"))\n",
    "    while grau >= 0:\n",
    "        coeficiente = float(input(\"Introduza o coeficiente do termo de grau \" + str(grau) + \": \"))\n",
    "        monomio = (coeficiente, grau)\n",
    "        resPol.append(monomio)\n",
    "        grau = grau - 1\n",
    "    return resPol\n",
    "\n",
    "polinomio4 = criaPolIn()"
   ]
  },
  {
   "cell_type": "code",
   "execution_count": null,
   "id": "22b8a280",
   "metadata": {},
   "outputs": [],
   "source": [
    "print(polinomio4)"
   ]
  },
  {
   "cell_type": "markdown",
   "id": "9d3475e4",
   "metadata": {},
   "source": [
    "#### c) Defina uma função que calcula o valor do polinómio dado um valor de `x`"
   ]
  },
  {
   "cell_type": "code",
   "execution_count": null,
   "id": "c4c8dc32",
   "metadata": {},
   "outputs": [],
   "source": [
    "# Solução de 1.c)\n",
    "def pot(base, exp):\n",
    "    res = 1\n",
    "    while exp > 1:\n",
    "        res = res + base\n",
    "        exp = exp - 1\n",
    "    return res\n",
    "\n",
    "def calcPolinomio(p, x):\n",
    "    res = 0\n",
    "    for monomio in p:\n",
    "        coeficiente, grau = monomio\n",
    "        res = res + pot(x, grau) * coeficiente\n",
    "    return res"
   ]
  },
  {
   "cell_type": "code",
   "execution_count": null,
   "id": "6b538e2d",
   "metadata": {},
   "outputs": [],
   "source": [
    "for i in range(1,11):\n",
    "    print(i, \" :: \", calcPolinomio(polinomio4, i))"
   ]
  },
  {
   "cell_type": "markdown",
   "id": "5fa6de75",
   "metadata": {},
   "source": [
    "#### d) Defina uma função que imprima no monitor o polinómio"
   ]
  },
  {
   "cell_type": "code",
   "execution_count": null,
   "id": "b0716c72",
   "metadata": {},
   "outputs": [],
   "source": [
    "# Solução de 1.d)\n",
    "def verPolinomio(p):\n",
    "    for m in p:\n",
    "        c, g = m\n",
    "        if c != 0:\n",
    "            if g != 0:\n",
    "                print(\" + \", c, \"x\", g, end=\"\")\n",
    "            else:\n",
    "                print(\"+\", c, end=\"\")\n",
    "\n",
    "    return"
   ]
  },
  {
   "cell_type": "code",
   "execution_count": null,
   "id": "4ead30fc",
   "metadata": {},
   "outputs": [],
   "source": [
    "verPolinomio(polinomio4)"
   ]
  },
  {
   "cell_type": "markdown",
   "id": "beb31acc",
   "metadata": {},
   "source": [
    "#### e) Defina uma função que calcula o grau de um polinómio dado"
   ]
  },
  {
   "cell_type": "code",
   "execution_count": null,
   "id": "09816d6e",
   "metadata": {},
   "outputs": [],
   "source": [
    "# Solução de 1.e)\n",
    "def grauPolinomio(p):\n",
    "    res = p[0][1]\n",
    "    for m in p:\n",
    "        c, g = m\n",
    "        if g > res:\n",
    "            res = g\n",
    "\n",
    "    return res"
   ]
  },
  {
   "cell_type": "code",
   "execution_count": null,
   "id": "a52c75f7",
   "metadata": {},
   "outputs": [],
   "source": [
    "a = polinomio4[1[0]]\n",
    "print(a, polinomio4)\n",
    "print(grauPolinomio(polinomio4))"
   ]
  },
  {
   "cell_type": "markdown",
   "id": "0cfe33d8",
   "metadata": {},
   "source": [
    "#### f) Defina uma função que imprime no monitor uma tabela com n linhas: x | p(x)"
   ]
  },
  {
   "cell_type": "code",
   "execution_count": null,
   "id": "3619f63c",
   "metadata": {},
   "outputs": [],
   "source": [
    "# Solução de 1.f)\n",
    "def tabela(p, linhas):\n",
    "\n",
    "    return"
   ]
  },
  {
   "cell_type": "markdown",
   "id": "df16478c",
   "metadata": {},
   "source": [
    "#### g) Define uma função que dado um polinómio calcula a sua derivada"
   ]
  },
  {
   "cell_type": "code",
   "execution_count": null,
   "id": "6bd99681",
   "metadata": {},
   "outputs": [],
   "source": [
    "# Solução de 1.g)\n",
    "def derivarPolinomio(p):\n",
    "\n",
    "    return"
   ]
  },
  {
   "cell_type": "markdown",
   "id": "a582ac17",
   "metadata": {},
   "source": [
    "#### h) Defina uma função para guardar uma lista de polinómios num ficheiro"
   ]
  },
  {
   "cell_type": "code",
   "execution_count": null,
   "id": "2b3f58dd",
   "metadata": {},
   "outputs": [],
   "source": [
    "# Solução de 1.h)\n",
    "def guardarPolinomio(listap, fnome):\n",
    "    fp = open(\"polinomios.txt\", \"w\")\n",
    "    for p in listap:\n",
    "        for m in p:\n",
    "            c, g = m \n",
    "            fp.write(str(c) + \"#\" + str(g) + \";\")\n",
    "        fo.write(\"\\n\")\n",
    "    fp.close()\n",
    "    return"
   ]
  },
  {
   "cell_type": "code",
   "execution_count": null,
   "id": "857def82",
   "metadata": {},
   "outputs": [],
   "source": [
    "listaPol = [polinomio1, polinomio2, polinomio3, polinomio4]\n",
    "guardarPolinomio(listaPol, \"polinomios.txt\")"
   ]
  },
  {
   "cell_type": "code",
   "execution_count": null,
   "id": "76a36222",
   "metadata": {},
   "outputs": [],
   "source": [
    "#\\n - polinomios\n",
    "# ; - monomio\n",
    "# # - separar c do g"
   ]
  },
  {
   "cell_type": "markdown",
   "id": "7f7d1410",
   "metadata": {},
   "source": [
    "#### i) Defina uma função para recuperar um polinómio dum ficheiro"
   ]
  },
  {
   "cell_type": "code",
   "execution_count": null,
   "id": "72081c41",
   "metadata": {},
   "outputs": [],
   "source": [
    "# Solução de 1.i)\n",
    "def recuperarPolinomio(fnome):\n",
    "    fp = open(fnome)\n",
    "    for linha in fp:\n",
    "        monomiosTxt = linha.split(\";\") #o split serve para colocar o #\n",
    "        for mtxt in monomiosTxt:\n",
    "            \n",
    "    fp.close()\n",
    "    return"
   ]
  },
  {
   "cell_type": "code",
   "execution_count": null,
   "id": "d96e4bbe",
   "metadata": {},
   "outputs": [],
   "source": [
    "listaPol2 = recuperarPolinomio(\"polinomios.txt\")"
   ]
  },
  {
   "cell_type": "markdown",
   "id": "fed2fbc4",
   "metadata": {},
   "source": [
    "#### j) Baseando-se nas funções até agora criadas, crie novas funções para manipular listas de polinómios: criar, ver, guardar e recuperar"
   ]
  },
  {
   "cell_type": "code",
   "execution_count": null,
   "id": "986c8587",
   "metadata": {},
   "outputs": [],
   "source": [
    "# Solução de 1.j)\n",
    "# ..."
   ]
  },
  {
   "cell_type": "markdown",
   "id": "6bea73df",
   "metadata": {},
   "source": [
    "#### k) Junte todas as funções num módulo, `polinomios.py`, e usa-o num pequeno programa exemplo"
   ]
  },
  {
   "cell_type": "code",
   "execution_count": null,
   "id": "82a2401b",
   "metadata": {},
   "outputs": [],
   "source": [
    "# Solução de 1.k)"
   ]
  },
  {
   "cell_type": "markdown",
   "id": "4193a91b",
   "metadata": {},
   "source": [
    "### TPC5: Análise de dados: doença cardíaca\n",
    "\n",
    "Descarregue o ficheiro de dados: `myheart.csv`\n",
    "Crie um programa em Python, conjunto de funções, que responda às seguintes questões:\n",
    "* Crie uma função que lê a informação do ficheiro para um modelo, previamente pensado em memória;\n",
    "* Crie uma função que calcula a distribuição da doença por sexo; #chave e depois valor (masculino e o valor)\n",
    "* Crie uma função que calcula a distribuição da doença por escalões etários. Considere os seguintes escalões: [30-34], [35-39], [40-44], ...\n",
    "* Crie uma função que calcula a distribuição da doença por níveis de colesterol. Considere um nível igual a um intervalo de 10 unidades, comece no limite inferior e crie os níveis necessários até abranger o limite superior;\n",
    "* Crie uma função que imprime na forma de uma tabela uma distribuição;\n",
    "* Especifique um programa que ao executar apresenta as tabelas correspondentes às distribuições pedidas."
   ]
  },
  {
   "cell_type": "code",
   "execution_count": null,
   "id": "76635e55",
   "metadata": {},
   "outputs": [],
   "source": [
    "import csv\n",
    "\n",
    "tabela = []\n",
    "\n",
    "def lerinformacao():\n",
    "    ficheiro = open(\"myheart.csv\", mode= \"r\")\n",
    "    inftabela = csv.reader(ficheiro, delimiter= \",\")\n",
    "    nlinha = 0\n",
    "    for linha in inftabela:\n",
    "        if nlinha == 0:\n",
    "            nlinha = nlinha + 1\n",
    "        else: \n",
    "            tabela.append((int(linha[0]), int(linha[1]), int(linha[2]), int(linha[3]), int(linha[4]), int(linha[5])))\n",
    "\n",
    "def distribuicaosexo():\n",
    "    lerinformacao()\n",
    "    contadorM = 0\n",
    "    contadorF = 0\n",
    "    for t in tabela:\n",
    "        idade, sexo, tensao, colestrol, batimento, temdoencas = t\n",
    "        if temdoencas == 1 and sexo == \"M\":\n",
    "            contadorM = contadorM + 1\n",
    "        elif temdoencas == 1 and sexo == \"F\":\n",
    "             contadorF = contadorF + 1\n",
    "    print(\"Contagem Masculina:\", contadorM)\n",
    "    print(\"Contagem Feminina:\", contadorF)\n",
    "\n",
    "def distribuicaodeidade():\n",
    "    lerinformacao()\n",
    "    escaloes = [[20, 24], [25, 29], [30, 34], [35,39], [40, 44], [45, 49], [50, 54], [55, 59], [60, 64], [65, 69], [70, 74], [75, 79], [80, 84], [84, 89]]\n",
    "    lista = []\n",
    "    for t in tabela:\n",
    "        idade, sexo, tensao, colestrol, batimento, temdoencas = t\n",
    "        for escalao in escaloes: \n",
    "            if temdoencas == 1 and idade >= escalao[0] and idade <= escalao[1]:\n",
    "                lista.append(escalao)\n",
    "    for escalao in escaloes:\n",
    "        print(\"Escalão\", escalao, \"tem:\", lista.count(escalao), \"pessoas\")\n",
    "\n",
    "def distribuicaocolestrol():\n",
    "    lerinformacao()\n",
    "    lista = []\n",
    "    nivelcolest = [[0,10], [100,110], [110,120], [120,130], [130,140], [140,150], [150,160], [160,170], [170,180], [180,190], [190, 200], [200,210], [210,220], [220,230], [230,240], [240,250], [250, 260], [260,270], [270,280], [280,290], [290, 300], [300,310], [310,320], [320, 330], [340, 350]]\n",
    "    for t in tabela:\n",
    "        idade, sexo, tensao, colestrol, batimento, temdoencas = t\n",
    "        for nivel in nivelcolest: \n",
    "            if temdoencas == 1 and colestrol >= nivel[0] and colestrol <= nivel[1]:\n",
    "                lista.append(nivel)\n",
    "    for nivel in nivelcolest:\n",
    "        print(\"Nivel\", nivel, \"tem:\", lista.count(nivel), \"pessoas\")\n",
    "        \n",
    "def menu():\n",
    "    opcao = int(input(\"Introduza um número entre 1 e 4: \"))\n",
    "    if opcao == 1:\n",
    "        lerinformacao()\n",
    "    elif opcao == 2:\n",
    "        distribuicaosexo()\n",
    "    elif opcao == 3:\n",
    "        distribuicaodeidade()\n",
    "    elif opcao == 4:\n",
    "        distribuicaocolestrol()\n",
    "menu()\n"
   ]
  }
 ],
 "metadata": {
  "kernelspec": {
   "display_name": "Python 3.10.7 64-bit",
   "language": "python",
   "name": "python3"
  },
  "language_info": {
   "codemirror_mode": {
    "name": "ipython",
    "version": 3
   },
   "file_extension": ".py",
   "mimetype": "text/x-python",
   "name": "python",
   "nbconvert_exporter": "python",
   "pygments_lexer": "ipython3",
   "version": "3.10.7"
  },
  "vscode": {
   "interpreter": {
    "hash": "fb4569285eef3a3450cb62085a5b1e0da4bce0af555edc33dcf29baf3acc1368"
   }
  }
 },
 "nbformat": 4,
 "nbformat_minor": 5
}
