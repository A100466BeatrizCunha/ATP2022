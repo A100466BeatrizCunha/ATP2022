{
 "cells": [
  {
   "cell_type": "markdown",
   "id": "1e545158",
   "metadata": {},
   "source": [
    "# Aula Prática 6 (guião)\n",
    "### Semana de 24 a 28 de Outubro de 2022\n",
    "### José Carlos Ramalho e Luís Cunha\n",
    "### Sinopsis:\n",
    "**Vamos desenhar**: Algoritmos e modelação de problemas com representações gráficas."
   ]
  },
  {
   "cell_type": "markdown",
   "id": "7322d8fc",
   "metadata": {},
   "source": [
    "### Exercício 1: Processando um dataset em CSV\n",
    "\n",
    "Escreve um programa que lê o dataset `obras.csv` e realiza as seguintes tarefas (tenta isolar cada tarefa numa função):\n",
    "* Carrega o dataset para uma estrutura de dados pensada por ti;\n",
    "* Quantas obras existem catalogadas no dataset?\n",
    "* Imprime no monitor uma tabela com o título da obra, a sua descrição, o seu compositor e ano de criação;\n",
    "* Produz uma lista de tuplos `(título, ano)` ordenada alfabeticamente por título;\n",
    "* Produz uma lista de tuplos `(título, ano)` ordenada crescentemente por ano;\n",
    "* Produz uma lista ordenada dos compositores;\n",
    "* Calcula uma distribuição das obras por período;\n",
    "* Calcula uma distribuição das obras por ano;\n",
    "* Calcula uma distribuição das obras por compositor;\n",
    "* Especifica uma função que recebendo uma distribuição desenha o seu gráfico. Aplica-a às distribuições anteriores;\n",
    "* Problema da inversão estrutural: calcula uma estrutura de dados que corresponde a uma lista dos compositores em que cada compositor tem a ele associado uma lista dos títulos das obras que compôs;\n",
    "* Cria uma função de visualização para estrutura de dados calculada na alínea anterior.\n"
   ]
  },
  {
   "cell_type": "code",
   "execution_count": 2,
   "id": "fcd61505",
   "metadata": {},
   "outputs": [],
   "source": [
    "# Solução do exercício 1\n",
    "import obras\n",
    "\n",
    "myObras = obras.readDataset(\"../P6/obras.csv\")"
   ]
  },
  {
   "cell_type": "code",
   "execution_count": null,
   "id": "fa23ea6c",
   "metadata": {},
   "outputs": [],
   "source": [
    "print(myObras[0])\n",
    "print(myObras[1])"
   ]
  },
  {
   "cell_type": "code",
   "execution_count": null,
   "id": "698c034b",
   "metadata": {},
   "outputs": [],
   "source": [
    "tamnhoObras = obras.tamanhoObras(myObras)\n",
    "print (tamnhoObras)"
   ]
  },
  {
   "cell_type": "code",
   "execution_count": null,
   "id": "034d74bd",
   "metadata": {},
   "outputs": [],
   "source": [
    "from obras import titPorAno\n",
    "\n",
    "\n",
    "titPorAno = obras.titPorAno(myObras)\n",
    "print (titPorAno)\n"
   ]
  },
  {
   "cell_type": "code",
   "execution_count": null,
   "id": "09534bc8",
   "metadata": {},
   "outputs": [],
   "source": [
    "nomeano = obras.nomeano(myObras)\n",
    "print (nomeano)"
   ]
  },
  {
   "cell_type": "code",
   "execution_count": null,
   "id": "bab553e9",
   "metadata": {},
   "outputs": [],
   "source": [
    "compOrd = obras.compOrd(myObras)\n",
    "print (compOrd)"
   ]
  },
  {
   "cell_type": "code",
   "execution_count": null,
   "id": "b19d5b27",
   "metadata": {},
   "outputs": [],
   "source": [
    "distPeriodos = obras.distPeriodos(myObras)\n",
    "print (distPeriodos)"
   ]
  },
  {
   "cell_type": "code",
   "execution_count": null,
   "id": "c8e65938",
   "metadata": {},
   "outputs": [],
   "source": [
    "distAno = obras.distAno(myObras)\n",
    "print (distAno)"
   ]
  },
  {
   "cell_type": "code",
   "execution_count": null,
   "id": "7f4d5c23",
   "metadata": {},
   "outputs": [],
   "source": [
    "distComp = obras.distComp(myObras)\n",
    "print (distComp)"
   ]
  },
  {
   "cell_type": "code",
   "execution_count": null,
   "id": "f0f5f87f",
   "metadata": {},
   "outputs": [],
   "source": [
    "graficoObrasPorPeriodo = obras.grafico(distPeriodos)"
   ]
  },
  {
   "cell_type": "code",
   "execution_count": null,
   "id": "7516941a",
   "metadata": {},
   "outputs": [],
   "source": [
    "graficoObrasPorAno = obras.grafico(distPeriodos)"
   ]
  },
  {
   "cell_type": "code",
   "execution_count": null,
   "id": "5ea59308",
   "metadata": {},
   "outputs": [],
   "source": [
    "graficoObrasPorCompositor = obras.desenhargrafico(distComp)"
   ]
  },
  {
   "cell_type": "code",
   "execution_count": null,
   "id": "6c19480e",
   "metadata": {},
   "outputs": [],
   "source": []
  },
  {
   "cell_type": "markdown",
   "id": "52ef42bc",
   "metadata": {},
   "source": [
    "#### Pretty Print: Como escrever de forma formatada e alinhada, os modificadores do `print`\n",
    "\n",
    "Sintaxe:\n",
    "\n",
    "print(f\"{exp:modificador}\")"
   ]
  },
  {
   "cell_type": "markdown",
   "id": "9761d73f",
   "metadata": {},
   "source": [
    "### Metodologia\n",
    "\n",
    "Ao longo dos próximos exercícios irás construir um módulo Python para desenho usando a biblioteca `matplotlib`.\n",
    "Nesse sentido, coloca todas as funções que desenvolveres num módulo chamado `myDrawingFunctions.py` que deverás importar nos programas que irás desenvolver neste guião."
   ]
  },
  {
   "cell_type": "markdown",
   "id": "1d9c2fbc",
   "metadata": {},
   "source": [
    "### Exercício 2: O quadrado \n",
    "\n",
    "Especifica, no teu módulo, uma função para desenhar um quadrado. Além do lado, pensa em parâmetros que te permitam posicionar o quadrado no plano xy.\n",
    "\n",
    "Importa o módulo num programa que irá desenhar os seguintes quadrados:\n",
    "* 1 quadrado de 100 unidades de lado, centrado na origem;\n",
    "* 99 quadrados, dentro do quadrado inicial, em que as coordenadas do canto inferior esquerdo vão sendo incrementadas de 1, ou o lado decrementado de 1."
   ]
  },
  {
   "cell_type": "code",
   "execution_count": null,
   "id": "fde54325",
   "metadata": {},
   "outputs": [],
   "source": [
    "# Solução do exercício 2\n",
    "import myDrawingFunctions as draw\n",
    "\n",
    "draw.quad(0, 0, 100)\n",
    "draw.nquad(0, 0, [x for x in range(1, 101, 5)])"
   ]
  },
  {
   "cell_type": "markdown",
   "id": "57f1522d",
   "metadata": {},
   "source": [
    "### Exercício 3: O retângulo\n",
    "\n",
    "Acrescenta ao teu módulo uma função para desenhar um retângulo devidamente posicionado. Acrescenta um parâmetro cor.\n",
    "\n",
    "Usa agora as funcionalidades do teu módulo para desenhar os seguintes retângulos:\n",
    "* 1 retângulo com o canto inferior esquerdo em (0,0) e o canto superior direito em (5,10);\n",
    "* 10 retângulos, lado a lado, em que os ímpares têm altura 100 e largura 20 e os pares altura 70 e largura 10;\n",
    "* Faz variar a cor entre os retângulos. "
   ]
  },
  {
   "cell_type": "code",
   "execution_count": null,
   "id": "199c3004",
   "metadata": {},
   "outputs": [],
   "source": [
    "# Solução do exercício 3\n",
    "import myDrawingFunctions as draw\n",
    "\n",
    "draw.rect(0, 0, 5, 100)\n"
   ]
  },
  {
   "cell_type": "markdown",
   "id": "08100b64",
   "metadata": {},
   "source": [
    "### Exercício 4: O círculo\n",
    "\n",
    "Acrescenta ao teu módulo uma função para desenhar um círculo devidamente posicionado. Acrescenta um parâmetro cor.\n",
    "\n",
    "Usa agora as funcionalidades do teu módulo para desenhar os seguintes círculos:\n",
    "* 1 círculo de raio 10, centrado na origem;\n",
    "* 10 círculos, concêntricos, centrados na origem, com lados `[10,20,30,40,50,60,70,80,90,100]`;\n",
    "* Faz variar a cor entre os círculos. "
   ]
  },
  {
   "cell_type": "code",
   "execution_count": null,
   "id": "d08949e6",
   "metadata": {},
   "outputs": [],
   "source": [
    "# Solução do exercício 4\n",
    "import myDrawingFunctions as draw\n",
    "\n",
    "draw.circ(0, 0, 10)\n",
    "# ..."
   ]
  },
  {
   "cell_type": "markdown",
   "id": "4193a91b",
   "metadata": {},
   "source": [
    "### TPC6: Análise de dados\n",
    "Completar a resolução do exercicio 1:\n",
    "\n",
    "Obras.py\n",
    "\n",
    "main.py (contem a demonstração das funcionalidades desenvolvidas em obras.py)\n",
    "\n"
   ]
  }
 ],
 "metadata": {
  "kernelspec": {
   "display_name": "Python 3.10.7 64-bit",
   "language": "python",
   "name": "python3"
  },
  "language_info": {
   "codemirror_mode": {
    "name": "ipython",
    "version": 3
   },
   "file_extension": ".py",
   "mimetype": "text/x-python",
   "name": "python",
   "nbconvert_exporter": "python",
   "pygments_lexer": "ipython3",
   "version": "3.10.7"
  },
  "vscode": {
   "interpreter": {
    "hash": "fb4569285eef3a3450cb62085a5b1e0da4bce0af555edc33dcf29baf3acc1368"
   }
  }
 },
 "nbformat": 4,
 "nbformat_minor": 5
}
