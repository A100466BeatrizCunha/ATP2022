{
 "cells": [
  {
   "cell_type": "markdown",
   "id": "1e545158",
   "metadata": {},
   "source": [
    "# Aula Prática 3 (guião)\n",
    "### Semana de 3 a 7 de Outubro de 2022\n",
    "### José Carlos Ramalho e Luís Cunha\n",
    "### Sinopsis:\n",
    "Algoritmos sobre listas."
   ]
  },
  {
   "cell_type": "markdown",
   "id": "e38d18c4-d7d7-4fea-9bc6-e3f3c903386b",
   "metadata": {},
   "source": [
    "### Exercício 1: Criar uma lista \n",
    "- Defina uma função que recebe um argumento **N** e devolve uma  lista com os números pares até **N**;\n",
    "- Crie um programa que chama a função e imprime a lista resultante."
   ]
  },
  {
   "cell_type": "code",
   "execution_count": 157,
   "id": "af973146-3bb4-4fa8-ba6c-b887b79ccff8",
   "metadata": {},
   "outputs": [
    {
     "name": "stdout",
     "output_type": "stream",
     "text": [
      "[0, 2, 4, 6]\n",
      "[0, 2, 4, 6, 8, 10, 12, 14, 16, 18, 20, 22, 24, 26, 28, 30, 32, 34, 36, 38, 40, 42, 44, 46, 48, 50, 52, 54, 56, 58, 60, 62, 64, 66, 68, 70, 72, 74, 76, 78, 80, 82, 84, 86, 88, 90, 92, 94, 96, 98, 100]\n"
     ]
    }
   ],
   "source": [
    "# Solução do exercício 1\n",
    "def criaLista(N):\n",
    "    Lista = []\n",
    "    numPar = 0\n",
    "    while numPar <= N:\n",
    "        Lista.append(numPar)\n",
    "        numPar = numPar + 2\n",
    "    return Lista\n",
    "\n",
    "ListaA = criaLista(6)\n",
    "print(ListaA)\n",
    "ListaB = criaLista(100)\n",
    "print(ListaB)\n"
   ]
  },
  {
   "cell_type": "markdown",
   "id": "bdcbffb0",
   "metadata": {},
   "source": [
    "### Exercício 2: Ler uma lista de N números\n",
    "- Defina uma função que recebe um argumento **N** e lê **N** números armazenando-os numa lista que é devolvida como resultado;\n",
    "- Crie um programa que chama a função e imprime a lista resultante."
   ]
  },
  {
   "cell_type": "code",
   "execution_count": 6,
   "id": "af973146-3bb4-4fa8-ba6c-b887b79ccff8",
   "metadata": {},
   "outputs": [
    {
     "name": "stdout",
     "output_type": "stream",
     "text": [
      "[1, 2, 3, 4, 5]\n"
     ]
    }
   ],
   "source": [
    "# Solução do exercício 2\n",
    "def leLista(N):\n",
    "    Lista = []\n",
    "    while N > 0:\n",
    "        n = int(input(\"Introduza um número \"))\n",
    "        Lista.append(n)\n",
    "        N = N - 1\n",
    "    return Lista\n",
    "\n",
    "listaC = leLista(5)\n",
    "print(listaC)"
   ]
  },
  {
   "cell_type": "markdown",
   "id": "bdcbffb0",
   "metadata": {},
   "source": [
    "### Exercício 3: Somar uma lista de números\n",
    "- Defina uma função que recebe uma lista como argumento e devolve a soma dos números nessa lista."
   ]
  },
  {
   "cell_type": "code",
   "execution_count": null,
   "id": "64ad6f7b",
   "metadata": {},
   "outputs": [
    {
     "name": "stdout",
     "output_type": "stream",
     "text": [
      "210\n"
     ]
    }
   ],
   "source": [
    "# Solução do exercício 3\n",
    "def somaLista(lista):\n",
    "    soma = 0\n",
    "    for n in lista:\n",
    "        soma = soma + n\n",
    "    return soma\n",
    "\n",
    "print(somaLista(criaLista(28)))"
   ]
  },
  {
   "cell_type": "markdown",
   "id": "bdcbffb0",
   "metadata": {},
   "source": [
    "### Exercício 4: Calcular a média duma lista de números\n",
    "- Defina uma função que recebe uma lista como argumento e devolve a média dos números nessa lista."
   ]
  },
  {
   "cell_type": "code",
   "execution_count": null,
   "id": "a6c32b2e",
   "metadata": {},
   "outputs": [
    {
     "name": "stdout",
     "output_type": "stream",
     "text": [
      "3.0\n"
     ]
    }
   ],
   "source": [
    "# Solução do exercício 4\n",
    "def mediaLista(lista):\n",
    "    media = 0 \n",
    "    soma = 0 \n",
    "    for n in lista:\n",
    "        soma = soma + n\n",
    "        media = soma / len(lista)\n",
    "    \n",
    "    return media\n",
    "print(mediaLista(criaLista(6)))"
   ]
  },
  {
   "cell_type": "code",
   "execution_count": 160,
   "id": "b14fd4c2",
   "metadata": {},
   "outputs": [
    {
     "name": "stdout",
     "output_type": "stream",
     "text": [
      "12.0\n"
     ]
    }
   ],
   "source": [
    "# Solução do exercício 4\n",
    "def mediaLista(lista):\n",
    "    return somaLista(lista) / len(lista)\n",
    "print(mediaLista([11,13]))"
   ]
  },
  {
   "cell_type": "markdown",
   "id": "f41ef69b",
   "metadata": {},
   "source": [
    "### Exercício 5: Maior de uma sequência\n",
    "- Defina uma função que recebe uma lista como argumento e devolve o maior número nessa lista."
   ]
  },
  {
   "cell_type": "code",
   "execution_count": 1,
   "id": "86f5b24d",
   "metadata": {},
   "outputs": [
    {
     "name": "stdout",
     "output_type": "stream",
     "text": [
      "12\n"
     ]
    }
   ],
   "source": [
    "# Solução do exercício 5\n",
    "def maiorLista(lista):\n",
    "    res = lista[0]\n",
    "    for n in lista[1:]:\n",
    "        if n > res:\n",
    "            res = n\n",
    "    \n",
    "    return res\n",
    "\n",
    "print(maiorLista([-5, 12, -3, 8, 1, 0]))"
   ]
  },
  {
   "cell_type": "markdown",
   "id": "d11cdd11",
   "metadata": {},
   "source": [
    "### Exercício 6: Menor de uma sequência\n",
    "- Defina uma função que recebe uma lista como argumento e devolve o menor número nessa lista."
   ]
  },
  {
   "cell_type": "code",
   "execution_count": 2,
   "id": "7549c7d7",
   "metadata": {},
   "outputs": [],
   "source": [
    "# Solução do exercício 6\n",
    "def menorLista(lista):\n",
    "    res = lista[0]\n",
    "    for n in lista[1:]:\n",
    "        if n < res:\n",
    "            res = n\n",
    "    \n",
    "    return res\n",
    "\n",
    "print(menorLista([-5, 12, -3, 8, 1, 0]))\n"
   ]
  },
  {
   "cell_type": "markdown",
   "id": "775a02a5",
   "metadata": {},
   "source": [
    "### Exercício 7: Contar strings\n",
    "- Defina uma função que recebe uma lista de strings como argumento e devolve número de strings nessa lista que:\n",
    "    1. Têm tamanho maior ou igual a 2;\n",
    "    2. Começam e terminam pelo mesmo caracter.\n",
    "#### Input (exemplo)\n",
    "in: ['abc', 'xyz', 'aba', '1221']\n",
    "#### Output (exemplo)\n",
    "out: 2"
   ]
  },
  {
   "cell_type": "code",
   "execution_count": 3,
   "id": "7390bc6a",
   "metadata": {},
   "outputs": [],
   "source": [
    "# Solução do exercício 7\n",
    "def contarStringsLista(lista):\n",
    "    res = 0\n",
    "    for s in lista:\n",
    "        if len(s) >= 2 and s[0] == s[-1]\n",
    "        res = res + 1\n",
    "    \n",
    "    \n",
    "    return res\n",
    "print(contarStringsLista([['abc', 'xyz', 'aba', '1221']]))"
   ]
  },
  {
   "cell_type": "markdown",
   "id": "f9ba457b",
   "metadata": {},
   "source": [
    "### Exercício 8: Remover duplicados\n",
    "- Defina uma função que recebe uma lista como argumento e devolve uma nova lista eliminando elementos repetidos."
   ]
  },
  {
   "cell_type": "code",
   "execution_count": 14,
   "id": "0abc61e5",
   "metadata": {},
   "outputs": [
    {
     "name": "stdout",
     "output_type": "stream",
     "text": [
      "[1, 2, 3, 4]\n"
     ]
    }
   ],
   "source": [
    "# Solução do exercício 8\n",
    "def remDupLista(lista):\n",
    "    res = []\n",
    "    for elem in lista:\n",
    "        if elem not in res:\n",
    "            res.append(elem)\n",
    "\n",
    "    return res\n",
    "\n",
    "print(remDupLista([1,1,2,3,4,2,3,1,4,2,1,1,2]))"
   ]
  },
  {
   "cell_type": "markdown",
   "id": "9bc471d8",
   "metadata": {},
   "source": [
    "### Exercício 9: eVazia?\n",
    "- Defina uma função que recebe uma lista como argumento e devolve um resultado booleano verdadeiro se a lista estiver vazia."
   ]
  },
  {
   "cell_type": "code",
   "execution_count": null,
   "id": "18cf2aff",
   "metadata": {},
   "outputs": [],
   "source": [
    "# Solução do exercício 9\n",
    "def eVazia(lista):\n",
    "    if len(lista) == 0:\n",
    "        valor = True\n",
    "    else:\n",
    "        valor = False\n",
    "    return valor\n",
    "    print (eVazia([0]))\n",
    "    \n",
    "    "
   ]
  },
  {
   "cell_type": "markdown",
   "id": "72b8fac0",
   "metadata": {},
   "source": [
    "### Exercício 10: Copiar lista\n",
    "- Defina uma função que recebe uma lista como argumento e devolve uma nova lista correspondente a uma cópia da lista recebida."
   ]
  },
  {
   "cell_type": "code",
   "execution_count": 6,
   "id": "a61ca503",
   "metadata": {},
   "outputs": [],
   "source": [
    "# Solução do exercício 10\n",
    "def copiarLista(lista):\n",
    "    copialista = lista\n",
    "    return copialista\n",
    "print(copiarLista[2, 4, 6, 8, 10])"
   ]
  },
  {
   "cell_type": "markdown",
   "id": "d170cc50",
   "metadata": {},
   "source": [
    "### Exercício 11: Strings maiores que n carateres\n",
    "- Defina uma função que recebe dois argumentos, uma lista de strings e um número inteiro, e que devolve uma nova lista de strings em que estas têm um comprimento igual ou superior ao valor inteiro passado como argumento."
   ]
  },
  {
   "cell_type": "code",
   "execution_count": 7,
   "id": "1944ef1d",
   "metadata": {},
   "outputs": [],
   "source": [
    "# Solução do exercício 11\n",
    "def stringsMaioresLista(lista, n):\n",
    "    listaN = []\n",
    "    for s in lista:\n",
    "        if len(s) >= n:\n",
    "            listaN.append(s)\n",
    "    return listaN\n",
    "print(stringsMaioresLista([\"tudo\", \"cozinha\", \"escritório\"], 8))"
   ]
  },
  {
   "cell_type": "markdown",
   "id": "af46fe06",
   "metadata": {},
   "source": [
    "### Exercício 12: Comum?\n",
    "- Defina uma função que recebe duas listas como argumento, e que devolve o valor booleano verdadeiro se as listas tiverem pelo menos um elemento comum."
   ]
  },
  {
   "cell_type": "code",
   "execution_count": 15,
   "id": "7a2f4413",
   "metadata": {},
   "outputs": [],
   "source": [
    "# Solução do exercício 12\n",
    "def haComuns(listaA, listaB):\n",
    "    res = False\n",
    "    for elem in listaA:\n",
    "        if elem in listaB:\n",
    "            res = True\n",
    "\n",
    "    \n",
    "    return res"
   ]
  },
  {
   "cell_type": "markdown",
   "id": "061bae0e",
   "metadata": {},
   "source": [
    "### Exercício 13: Comuns\n",
    "- Defina uma função que recebe duas listas como argumento, e que devolve uma nova lista com os valores comuns às duas listas."
   ]
  },
  {
   "cell_type": "code",
   "execution_count": 9,
   "id": "02db9458",
   "metadata": {},
   "outputs": [],
   "source": [
    "# Solução do exercício 13\n",
    "def comuns(listaA, listaB):\n",
    "    lista = []\n",
    "    for n in listaA:\n",
    "        if n in listaB:\n",
    "            lista.append(n)\n",
    "    return lista\n",
    "print(comuns([1, 2, 4], [1, 2, 3, 4]))"
   ]
  },
  {
   "cell_type": "markdown",
   "id": "af4f2b11",
   "metadata": {},
   "source": [
    "### Exercício 14: Únicos\n",
    "- Defina uma função que recebe duas listas como argumento, e que devolve uma nova lista com os valores que apenas existem numa delas."
   ]
  },
  {
   "cell_type": "code",
   "execution_count": 10,
   "id": "01a0d35e",
   "metadata": {},
   "outputs": [],
   "source": [
    "# Solução do exercício 14\n",
    "def unicos(listaA, listaB):\n",
    "    lista=[]\n",
    "    for n in listaA:\n",
    "        lista.append(n)\n",
    "    return lista\n",
    "print (unicos ([1, 2, 4, 5],[5, 3, 7, 8]))\n"
   ]
  },
  {
   "cell_type": "markdown",
   "id": "2acbab46",
   "metadata": {},
   "source": [
    "### Exercício 15: indiceDe\n",
    "- Defina uma função que recebe uma lista e um elemento como argumento, e que devolve o índice desse elemento na lista. No caso do elemento não existir na lista deverá devolver o valor -1."
   ]
  },
  {
   "cell_type": "code",
   "execution_count": 2,
   "id": "3891e6c3",
   "metadata": {},
   "outputs": [
    {
     "name": "stdout",
     "output_type": "stream",
     "text": [
      "-1\n"
     ]
    }
   ],
   "source": [
    "# Solução do exercício 15\n",
    "def unicos(lista, elem):\n",
    "    for i in lista:\n",
    "        if i == elem:\n",
    "            return lista.index(i)\n",
    "        else:\n",
    "            return -1\n",
    "print (unicos([1, 7, 12, 8], 2))"
   ]
  },
  {
   "cell_type": "markdown",
   "id": "1d9c2fbc",
   "metadata": {},
   "source": [
    "### Exercício 16: estaOrdenada\n",
    "- Defina uma função que recebe uma lista de números e verifica se a mesma está ordenada por ordem crescente."
   ]
  },
  {
   "cell_type": "code",
   "execution_count": 12,
   "id": "fb44546a",
   "metadata": {},
   "outputs": [],
   "source": [
    "# Solução do exercício 16\n",
    "def estaOrdenada(lista):\n",
    "    if sorted(lista) == lista:\n",
    "        res = True\n",
    "    else:\n",
    "        res = False\n",
    "    return res\n",
    "print(estaOrdenada([2, 4, 8]))"
   ]
  },
  {
   "cell_type": "markdown",
   "id": "4c48dc90",
   "metadata": {},
   "source": [
    "### Exercício 17: estaOrdenadaCD\n",
    "- Modifique a função do exercício anterior para receber um parâmetro extra, **ordem**, que poderá ter valores \"C\" ou \"D\" e que vai verificar se a lista está ordenada por ordem crescente se **ordem=\"C\"** ou se está ordenada por ordem decrescente se **ordem=\"D\"**."
   ]
  },
  {
   "cell_type": "code",
   "execution_count": 5,
   "id": "f4b83960",
   "metadata": {},
   "outputs": [
    {
     "name": "stdout",
     "output_type": "stream",
     "text": [
      "False\n"
     ]
    }
   ],
   "source": [
    "# Solução do exercício 16\n",
    "def estaOrdenadaCD(lista, ordem):\n",
    "       if sorted(lista) == lista and ordem == \"C\":\n",
    "        res = True\n",
    "       elif sorted(lista, reverse = True ) == lista and ordem == \"D\":\n",
    "        res = True\n",
    "       else:\n",
    "        res = False\n",
    "       return res\n",
    "print(estaOrdenadaCD([2, 4, 8], \"D\"))"
   ]
  },
  {
   "cell_type": "markdown",
   "id": "4193a91b",
   "metadata": {},
   "source": [
    "### TPC3: Aplicação para manipulação de listas de inteiros\n",
    "- Crie uma aplicação em Python que coloca no monitor o seguinte menu:\n",
    "    * (1) Criar Lista \n",
    "    * (2) Ler Lista\n",
    "    * (3) Soma\n",
    "    * (4) Média\n",
    "    * (5) Maior\n",
    "    * (6) Menor\n",
    "    * (7) estaOrdenada por ordem crescente\n",
    "    * (8) estaOrdenada por ordem decrescente\n",
    "    * (9) Procura um elemento\n",
    "    * (0) Sair\n",
    "- O utilizador irá escolher uma das opções introduzindo o número correspondente;\n",
    "- Se a opção não for sair, a aplicação executa a operação pretendida, apresenta o resultado e a seguir apresenta de novo o menu;\n",
    "- Se a opção for sair, a aplicação termina colocando uma mensagem no monitor.\n",
    "\n",
    "* No desenvolvimento da aplicação deverá ter em atenção o seguinte:\n",
    "    - A aplicação terá uma variável interna para guardar uma lista de números;\n",
    "    - Na opção 1, deverá ser criada uma lista de números aleatórios entre 1 e 100 que será guardada na variável interna;\n",
    "    - Na opção 2, deverá ser criada uma lista com números introduzidos pelo utilizador, que será guardada na variável interna;\n",
    "    - Nestas primeiras opções, se a variável interna já tiver uma lista, esta será sobreposta/apagada pela nova lista;\n",
    "    - Na opção 3, será calculada a soma dos elementos na lista no momento;\n",
    "    - Na opção 4, será calculada a média dos elementos na lista no momento;\n",
    "    - Na opção 5, será calculado o maior elemento da lista no momento;\n",
    "    - Na opção 6, será calculado o menor elemento da lista no momento;\n",
    "    - Na opção 7, a aplicação deverá indicar (Sim/Não) se a lista está ordenada por ordem crescente;\n",
    "    - Na opção 8, a aplicação deverá indicar (Sim/Não) se a lista está ordenada por ordem decrescente;\n",
    "    - Na opção 9, a aplicação irá procurar um ellmento na lista, se o encontrar deverá devolver a sua posição;\n",
    "    - Se o utilizador selecionar a opção 0, a aplicação deverá terminar mostrando a lista que está nesse momento guardada."
   ]
  },
  {
   "cell_type": "code",
   "execution_count": 10,
   "id": "b42a3eca",
   "metadata": {},
   "outputs": [
    {
     "name": "stdout",
     "output_type": "stream",
     "text": [
      "Menu\n",
      "Escolha a opção:\n",
      "(1)Criar Lista\n",
      "(2)Ler Lista\n",
      "(3)Soma\n",
      "(4)Média\n",
      "(5)Maior\n",
      "(6)Menor\n",
      "(7)Está ordenada por ordem crescente\n",
      "(8)Está ordenada por ordem decrescente\n",
      "(9)Procurar um elemento\n",
      "(0)Sair \n",
      "Que tamanho quer que a lista tenha? \n",
      "[62, 16, 36, 97]\n",
      "Menu\n",
      "Escolha a opção:\n",
      "(1)Criar Lista\n",
      "(2)Ler Lista\n",
      "(3)Soma\n",
      "(4)Média\n",
      "(5)Maior\n",
      "(6)Menor\n",
      "(7)Está ordenada por ordem crescente\n",
      "(8)Está ordenada por ordem decrescente\n",
      "(9)Procurar um elemento\n",
      "(0)Sair \n",
      "97\n",
      "Menu\n",
      "Escolha a opção:\n",
      "(1)Criar Lista\n",
      "(2)Ler Lista\n",
      "(3)Soma\n",
      "(4)Média\n",
      "(5)Maior\n",
      "(6)Menor\n",
      "(7)Está ordenada por ordem crescente\n",
      "(8)Está ordenada por ordem decrescente\n",
      "(9)Procurar um elemento\n",
      "(0)Sair \n",
      "16\n",
      "Menu\n",
      "Escolha a opção:\n",
      "(1)Criar Lista\n",
      "(2)Ler Lista\n",
      "(3)Soma\n",
      "(4)Média\n",
      "(5)Maior\n",
      "(6)Menor\n",
      "(7)Está ordenada por ordem crescente\n",
      "(8)Está ordenada por ordem decrescente\n",
      "(9)Procurar um elemento\n",
      "(0)Sair \n"
     ]
    },
    {
     "ename": "ValueError",
     "evalue": "invalid literal for int() with base 10: ''",
     "output_type": "error",
     "traceback": [
      "\u001b[1;31m---------------------------------------------------------------------------\u001b[0m",
      "\u001b[1;31mValueError\u001b[0m                                Traceback (most recent call last)",
      "Cell \u001b[1;32mIn [10], line 7\u001b[0m\n\u001b[0;32m      5\u001b[0m programa \u001b[39m=\u001b[39m \u001b[39mTrue\u001b[39;00m\n\u001b[0;32m      6\u001b[0m \u001b[39mwhile\u001b[39;00m programa \u001b[39m==\u001b[39m \u001b[39mTrue\u001b[39;00m:\n\u001b[1;32m----> 7\u001b[0m     N \u001b[39m=\u001b[39m \u001b[39mint\u001b[39m(\u001b[39minput\u001b[39m(\u001b[39m\"\u001b[39m\u001b[39mEscolha um número de 0 a 9 \u001b[39m\u001b[39m\"\u001b[39m))\n\u001b[0;32m      8\u001b[0m     \u001b[39mif\u001b[39;00m N \u001b[39m==\u001b[39m \u001b[39m0\u001b[39m:\n\u001b[0;32m      9\u001b[0m         \u001b[39mprint\u001b[39m(lista)\n",
      "\u001b[1;31mValueError\u001b[0m: invalid literal for int() with base 10: ''"
     ]
    }
   ],
   "source": [
    "from random import randint\n",
    "Menu = (\"Menu\\nEscolha a opção:\\n(1)Criar Lista\\n(2)Ler Lista\\n(3)Soma\\n(4)Média\\n(5)Maior\\n(6)Menor\\n(7)Está ordenada por ordem crescente\\n(8)Está ordenada por ordem decrescente\\n(9)Procurar um elemento\\n(0)Sair \")\n",
    "lista = []\n",
    "print (Menu)\n",
    "programa = True\n",
    "while programa == True:\n",
    "    N = int(input(\"Escolha um número de 0 a 9 \"))\n",
    "    if N == 0:\n",
    "        print(lista)\n",
    "        print(\"Obrigada! Até à próxima\")\n",
    "        programa == False\n",
    "    if N == 1:\n",
    "        lista.clear()\n",
    "        print(\"Que tamanho quer que a lista tenha? \")\n",
    "        n = int(input(\"Escolha o tamanho da lista\"))\n",
    "        while n > 0:\n",
    "            lista.append(randint(0,101))\n",
    "            n = n - 1\n",
    "        print(lista)\n",
    "        print(Menu)\n",
    "    if N == 2:\n",
    "        lista.clear()\n",
    "        print(\"Que tamanho quer que a lista tenha? \")\n",
    "        tamanho = int(input(\"Escolha o tamanho da lista\"))\n",
    "        while tamanho > 0:\n",
    "            s = int(input(\"Escolha um número \"))\n",
    "            lista.append(s)\n",
    "            tamanho = tamanho - 1\n",
    "        print(lista)\n",
    "        print(Menu)\n",
    "    if N == 3:\n",
    "        soma = 0\n",
    "        for i in lista:\n",
    "            soma = soma + i \n",
    "        print(soma)\n",
    "        print(Menu)\n",
    "    if N == 4:\n",
    "        soma1 = 0\n",
    "        media = 0 \n",
    "        divisor=len(lista)\n",
    "        for i in lista:\n",
    "            soma1 = soma1 + i \n",
    "            media = soma1 / divisor \n",
    "        print(media)\n",
    "        print(Menu)\n",
    "    if N == 5:\n",
    "        maior = lista[0]\n",
    "        for i in lista[1:]:\n",
    "            if i > maior:\n",
    "                maior = i \n",
    "        print(maior)\n",
    "        print(Menu)\n",
    "    if N == 6:\n",
    "        menor = lista[0]\n",
    "        for i in lista[1:]:\n",
    "            if i < menor:\n",
    "                menor = i \n",
    "        print(menor)\n",
    "        print(Menu)\n",
    "    if N == 7:\n",
    "        listacopiada = lista.copy()\n",
    "        listacopiada.sort()\n",
    "        if listacopiada == lista:\n",
    "            print(\"sim\")\n",
    "        else:\n",
    "            print(\"não\")\n",
    "    if N == 8:\n",
    "        listacopiada = lista.copy()\n",
    "        listacopiada.sort(reverse=True)\n",
    "        if listacopiada == lista:\n",
    "            print(\"sim\")\n",
    "        else:\n",
    "            print(\"não\")\n",
    "    if N == 9:\n",
    "        p = int(input(\"Determine o elemento que procura \"))\n",
    "        if p in lista:\n",
    "            print(\"A posição do número é {}\" .format(lista.index(n)))\n",
    "        else:\n",
    "            print(\"O elemento que escolheu não está na lista \")\n",
    "        print(Menu)\n",
    "\n",
    "\n",
    "\n"
   ]
  }
 ],
 "metadata": {
  "kernelspec": {
   "display_name": "Python 3.10.7 64-bit",
   "language": "python",
   "name": "python3"
  },
  "language_info": {
   "codemirror_mode": {
    "name": "ipython",
    "version": 3
   },
   "file_extension": ".py",
   "mimetype": "text/x-python",
   "name": "python",
   "nbconvert_exporter": "python",
   "pygments_lexer": "ipython3",
   "version": "3.10.7"
  },
  "vscode": {
   "interpreter": {
    "hash": "fb4569285eef3a3450cb62085a5b1e0da4bce0af555edc33dcf29baf3acc1368"
   }
  }
 },
 "nbformat": 4,
 "nbformat_minor": 5
}
